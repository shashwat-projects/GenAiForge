{
 "cells": [
  {
   "cell_type": "code",
   "execution_count": null,
   "id": "e3c2296b",
   "metadata": {},
   "outputs": [],
   "source": [
    "import os\n",
    "import json\n",
    "import pandas as pd\n",
    "import traceback\n",
    "import warnings\n",
    "from langchain_huggingface import ChatHuggingFace, HuggingFaceEndpoint\n",
    "from langchain.prompts import PromptTemplate\n",
    "from langchain.chains import LLMChain\n",
    "from langchain.chains import SequentialChain\n",
    "from langchain_core.output_parsers import JsonOutputParser\n",
    "# from langchain.callbacks import get_openai_callback\n",
    "import PyPDF2\n",
    "\n",
    "warnings.filterwarnings(\"ignore\")"
   ]
  },
  {
   "cell_type": "code",
   "execution_count": 3,
   "id": "8ff32821",
   "metadata": {},
   "outputs": [],
   "source": [
    "llm = HuggingFaceEndpoint(\n",
    "    repo_id=\"deepseek-ai/DeepSeek-V3.1\",\n",
    ")\n",
    "\n",
    "# Here, llm is not a normal text LLM, it’s a chat LLM as deepseek-ai/DeepSeek-V3.1 doesnt support text but only conversation— so LLMChain doesn’t really know how to talk to it. That’s why LangChain has ChatHuggingFace, which wraps HuggingFaceEndpoint and converts it into something LLMChain can understand.\n",
    "chat_model = ChatHuggingFace(llm=llm)"
   ]
  },
  {
   "cell_type": "code",
   "execution_count": 4,
   "id": "dc49c670",
   "metadata": {},
   "outputs": [],
   "source": [
    "output_response = {\n",
    "    \"1\": {\n",
    "        \"mcq\": \"multiple choice question\",\n",
    "        \"options\": {\n",
    "            \"a\": \"choice here\",\n",
    "            \"b\": \"choice here\",\n",
    "            \"c\": \"choice here\",\n",
    "            \"d\": \"choice here\",\n",
    "        },\n",
    "        \"correct\": \"correct answer\",\n",
    "    },\n",
    "    \"2\": {\n",
    "        \"mcq\": \"multiple choice question\",\n",
    "        \"options\": {\n",
    "            \"a\": \"choice here\",\n",
    "            \"b\": \"choice here\",\n",
    "            \"c\": \"choice here\",\n",
    "            \"d\": \"choice here\",\n",
    "        },\n",
    "        \"correct\": \"correct answer\",\n",
    "    },\n",
    "    \"3\": {\n",
    "        \"mcq\": \"multiple choice question\",\n",
    "        \"options\": {\n",
    "            \"a\": \"choice here\",\n",
    "            \"b\": \"choice here\",\n",
    "            \"c\": \"choice here\",\n",
    "            \"d\": \"choice here\",\n",
    "        },\n",
    "        \"correct\": \"correct answer\",\n",
    "    },\n",
    "}\n",
    "\n",
    "output_response_json = json.dumps(output_response)"
   ]
  },
  {
   "cell_type": "code",
   "execution_count": 5,
   "id": "3fb868dc",
   "metadata": {},
   "outputs": [],
   "source": [
    "quiz_generation_template=\"\"\"\n",
    "Text:{text}\n",
    "You are an expert MCQ maker. Given the above text, it is your job to \\\n",
    "create a quiz  of {number} multiple choice questions for {subject} students with difficulty level {level}. \n",
    "Make sure the questions are not repeated and check all the questions to be conforming the text as well.\n",
    "Make sure to format your response like  RESPONSE_JSON below  and use it as a guide. \\\n",
    "Ensure to make {number} MCQs\n",
    "### RESPONSE_JSON\n",
    "{response_json}\n",
    "\n",
    "\"\"\"\n",
    "quiz_generation_prompt = PromptTemplate(\n",
    "    input_variables=[\"text\", \"number\", \"subject\", \"level\", \"response_json\"],\n",
    "    template=quiz_generation_template\n",
    "    )\n",
    "quiz_chain=LLMChain(llm=chat_model, prompt=quiz_generation_prompt, output_key=\"quiz\", output_parser= JsonOutputParser(), verbose=True)"
   ]
  },
  {
   "cell_type": "code",
   "execution_count": 6,
   "id": "2d8eda2d",
   "metadata": {},
   "outputs": [],
   "source": [
    "quiz_evaluation_template=\"\"\"\n",
    "You are an expert english grammarian and writer. Given a Multiple Choice Quiz for {subject} students.\\\n",
    "You need to evaluate the complexity of the question and give a complete analysis of the quiz. Only use at max 50 words for complexity analysis. \n",
    "if the quiz is not at per with the cognitive and analytical abilities of the students,\\\n",
    "update the quiz questions which needs to be changed and change the tone such that it perfectly fits the student abilities\n",
    "Quiz_MCQs:\n",
    "{quiz}\n",
    "\n",
    "Check from an expert English Writer of the above quiz:\n",
    "\"\"\"\n",
    "quiz_evaluation_prompt=PromptTemplate(input_variables=[\"subject\", \"quiz\"], template=quiz_evaluation_template)\n",
    "review_chain=LLMChain(llm=chat_model, prompt=quiz_evaluation_prompt, output_key=\"review\", verbose=True)"
   ]
  },
  {
   "cell_type": "code",
   "execution_count": 7,
   "id": "4ce9e417",
   "metadata": {},
   "outputs": [],
   "source": [
    "generate_evaluate_chain=SequentialChain(chains=[quiz_chain, review_chain], input_variables=[\"text\", \"number\", \"subject\", \"level\", \"response_json\"],\n",
    "                                        output_variables=[\"quiz\", \"review\"], verbose=True,)"
   ]
  },
  {
   "cell_type": "code",
   "execution_count": null,
   "id": "cd6a35a5",
   "metadata": {},
   "outputs": [
    {
     "name": "stdout",
     "output_type": "stream",
     "text": [
      "Anatomically modern humans first arrived on the Indian subcontinent between 73,000 and 55,000 years ago.[1] The earliest known human remains in South Asia date to 30,000 years ago. Sedentariness began in South Asia around 7000 BCE; by 4500 BCE, settled life had spread,[2] and gradually evolved into the Indus Valley Civilisation, one of three early cradles of civilisation in the Old World,[3][4] which flourished between 2500 BCE and 1900 BCE in present-day Pakistan and north-western India. Early in the second millennium BCE, persistent drought caused the population of the Indus Valley to scatter from large urban centres to villages. Indo-Aryan tribes moved into the Punjab from Central Asia in several waves of migration. The Vedic Period of the Vedic people in northern India (1500–500 BCE) was marked by the composition of their extensive collections of hymns (Vedas). The social structure was loosely stratified via the varna system, incorporated into the highly evolved present-day Jāti system. The pastoral and nomadic Indo-Aryans spread from the Punjab into the Gangetic plain. Around 600 BCE, a new, interregional culture arose; then, small chieftaincies (janapadas) were consolidated into larger states (mahajanapadas). Second urbanization took place, which came with the rise of new ascetic movements and religious concepts,[5] including the rise of Jainism and Buddhism. The latter was synthesized with the preexisting religious cultures of the subcontinent, giving rise to Hinduism.\n",
      "\n",
      "\n",
      "Indian cultural influence (Greater India)\n",
      "\n",
      "Timeline of Indian history\n",
      "Chandragupta Maurya overthrew the Nanda Empire and established the first great empire in ancient India, the Maurya Empire. India's Mauryan king Ashoka is widely recognised for the violent kalinga war and his historical acceptance of Buddhism and his attempts to spread nonviolence and peace across his empire. The Maurya Empire would collapse in 185 BCE, on the assassination of the then-emperor Brihadratha by his general Pushyamitra Shunga. Shunga would form the Shunga Empire in the north and north-east of the subcontinent, while the Greco-Bactrian Kingdom would claim the north-west and found the Indo-Greek Kingdom. Various parts of India were ruled by numerous dynasties, including the Gupta Empire, in the 4th to 6th centuries CE. This period, witnessing a Hindu religious and intellectual resurgence is known as the Classical or Golden Age of India. Aspects of Indian civilisation, administration, culture, and religion spread to much of Asia, which led to the establishment of Indianised kingdoms in the region, forming Greater India.[6][5] The most significant event between the 7th and 11th centuries was the Tripartite struggle centred on Kannauj. Southern India saw the rise of multiple imperial powers from the middle of the fifth century. The Chola dynasty conquered southern India in the 11th century. In the early medieval period, Indian mathematics, including Hindu numerals, influenced the development of mathematics and astronomy in the Arab world, including the creation of the Hindu-Arabic numeral system.[7]\n",
      "\n",
      "Islamic conquests made limited inroads into modern Afghanistan and Sindh as early as the 8th century,[8] followed by the invasions of Mahmud Ghazni.[9] The Delhi Sultanate, established in 1206 by Central Asian Turks, ruled much of northern India in the 14th century. It was governed by various Turkic and Afghan dynasties, including the Indo-Turkic Tughlaqs.[10][11] The empire declined in the late 14th century following the invasions of Timur[12] and saw the advent of the Malwa, Gujarat, and Bahmani sultanates, the last of which split in 1518 into the five Deccan sultanates. The wealthy Bengal Sultanate also emerged as a major power, lasting over three centuries.[13] During this period, multiple strong Hindu kingdoms, notably the Vijayanagara Empire and Rajput states under the Kingdom of Mewar emerged and played significant roles in shaping the cultural and political landscape of India.[14][15]\n",
      "\n",
      "The early modern period began in the 16th century, when the Mughal Empire conquered most of the Indian subcontinent,[16] signaling the proto-industrialisation, becoming the biggest global economy and manufacturing power.[17][18][19] The Mughals suffered a gradual decline in the early 18th century, largely due to the rising power of the Marathas, who took control of extensive regions of the Indian subcontinent, and numerous Afghan invasions.[20][21][22] The East India Company, acting as a sovereign force on behalf of the British government, gradually acquired control of huge areas of India between the middle of the 18th and the middle of the 19th centuries. Policies of company rule in India led to the Indian Rebellion of 1857. India was afterwards ruled directly by the British Crown, in the British Raj. After World War I, a nationwide struggle for independence was launched by the Indian National Congress, led by Mahatma Gandhi. Later, the All-India Muslim League would advocate for a separate Muslim-majority nation state. The British Indian Empire was partitioned in August 1947 into the Dominion of India and Dominion of Pakistan, each gaining its independence.\n"
     ]
    }
   ],
   "source": [
    "file_path=r\"D:\\Gen Ai\\MCQGenerator\\topic.txt\"\n",
    "\n",
    "with open(file_path, 'r') as file:\n",
    "    topic = file.read()"
   ]
  },
  {
   "cell_type": "code",
   "execution_count": null,
   "id": "8a54a656",
   "metadata": {},
   "outputs": [
    {
     "name": "stdout",
     "output_type": "stream",
     "text": [
      "\n",
      "\n",
      "\u001b[1m> Entering new SequentialChain chain...\u001b[0m\n",
      "\n",
      "\n",
      "\u001b[1m> Entering new LLMChain chain...\u001b[0m\n",
      "Prompt after formatting:\n",
      "\u001b[32;1m\u001b[1;3m\n",
      "Text:Anatomically modern humans first arrived on the Indian subcontinent between 73,000 and 55,000 years ago.[1] The earliest known human remains in South Asia date to 30,000 years ago. Sedentariness began in South Asia around 7000 BCE; by 4500 BCE, settled life had spread,[2] and gradually evolved into the Indus Valley Civilisation, one of three early cradles of civilisation in the Old World,[3][4] which flourished between 2500 BCE and 1900 BCE in present-day Pakistan and north-western India. Early in the second millennium BCE, persistent drought caused the population of the Indus Valley to scatter from large urban centres to villages. Indo-Aryan tribes moved into the Punjab from Central Asia in several waves of migration. The Vedic Period of the Vedic people in northern India (1500–500 BCE) was marked by the composition of their extensive collections of hymns (Vedas). The social structure was loosely stratified via the varna system, incorporated into the highly evolved present-day Jāti system. The pastoral and nomadic Indo-Aryans spread from the Punjab into the Gangetic plain. Around 600 BCE, a new, interregional culture arose; then, small chieftaincies (janapadas) were consolidated into larger states (mahajanapadas). Second urbanization took place, which came with the rise of new ascetic movements and religious concepts,[5] including the rise of Jainism and Buddhism. The latter was synthesized with the preexisting religious cultures of the subcontinent, giving rise to Hinduism.\n",
      "\n",
      "\n",
      "Indian cultural influence (Greater India)\n",
      "\n",
      "Timeline of Indian history\n",
      "Chandragupta Maurya overthrew the Nanda Empire and established the first great empire in ancient India, the Maurya Empire. India's Mauryan king Ashoka is widely recognised for the violent kalinga war and his historical acceptance of Buddhism and his attempts to spread nonviolence and peace across his empire. The Maurya Empire would collapse in 185 BCE, on the assassination of the then-emperor Brihadratha by his general Pushyamitra Shunga. Shunga would form the Shunga Empire in the north and north-east of the subcontinent, while the Greco-Bactrian Kingdom would claim the north-west and found the Indo-Greek Kingdom. Various parts of India were ruled by numerous dynasties, including the Gupta Empire, in the 4th to 6th centuries CE. This period, witnessing a Hindu religious and intellectual resurgence is known as the Classical or Golden Age of India. Aspects of Indian civilisation, administration, culture, and religion spread to much of Asia, which led to the establishment of Indianised kingdoms in the region, forming Greater India.[6][5] The most significant event between the 7th and 11th centuries was the Tripartite struggle centred on Kannauj. Southern India saw the rise of multiple imperial powers from the middle of the fifth century. The Chola dynasty conquered southern India in the 11th century. In the early medieval period, Indian mathematics, including Hindu numerals, influenced the development of mathematics and astronomy in the Arab world, including the creation of the Hindu-Arabic numeral system.[7]\n",
      "\n",
      "Islamic conquests made limited inroads into modern Afghanistan and Sindh as early as the 8th century,[8] followed by the invasions of Mahmud Ghazni.[9] The Delhi Sultanate, established in 1206 by Central Asian Turks, ruled much of northern India in the 14th century. It was governed by various Turkic and Afghan dynasties, including the Indo-Turkic Tughlaqs.[10][11] The empire declined in the late 14th century following the invasions of Timur[12] and saw the advent of the Malwa, Gujarat, and Bahmani sultanates, the last of which split in 1518 into the five Deccan sultanates. The wealthy Bengal Sultanate also emerged as a major power, lasting over three centuries.[13] During this period, multiple strong Hindu kingdoms, notably the Vijayanagara Empire and Rajput states under the Kingdom of Mewar emerged and played significant roles in shaping the cultural and political landscape of India.[14][15]\n",
      "\n",
      "The early modern period began in the 16th century, when the Mughal Empire conquered most of the Indian subcontinent,[16] signaling the proto-industrialisation, becoming the biggest global economy and manufacturing power.[17][18][19] The Mughals suffered a gradual decline in the early 18th century, largely due to the rising power of the Marathas, who took control of extensive regions of the Indian subcontinent, and numerous Afghan invasions.[20][21][22] The East India Company, acting as a sovereign force on behalf of the British government, gradually acquired control of huge areas of India between the middle of the 18th and the middle of the 19th centuries. Policies of company rule in India led to the Indian Rebellion of 1857. India was afterwards ruled directly by the British Crown, in the British Raj. After World War I, a nationwide struggle for independence was launched by the Indian National Congress, led by Mahatma Gandhi. Later, the All-India Muslim League would advocate for a separate Muslim-majority nation state. The British Indian Empire was partitioned in August 1947 into the Dominion of India and Dominion of Pakistan, each gaining its independence.\n",
      "You are an expert MCQ maker. Given the above text, it is your job to create a quiz  of 5 multiple choice questions for History students with difficulty level simple. \n",
      "Make sure the questions are not repeated and check all the questions to be conforming the text as well.\n",
      "Make sure to format your response like  RESPONSE_JSON below  and use it as a guide. Ensure to make 5 MCQs\n",
      "### RESPONSE_JSON\n",
      "{\"1\": {\"mcq\": \"multiple choice question\", \"options\": {\"a\": \"choice here\", \"b\": \"choice here\", \"c\": \"choice here\", \"d\": \"choice here\"}, \"correct\": \"correct answer\"}, \"2\": {\"mcq\": \"multiple choice question\", \"options\": {\"a\": \"choice here\", \"b\": \"choice here\", \"c\": \"choice here\", \"d\": \"choice here\"}, \"correct\": \"correct answer\"}, \"3\": {\"mcq\": \"multiple choice question\", \"options\": {\"a\": \"choice here\", \"b\": \"choice here\", \"c\": \"choice here\", \"d\": \"choice here\"}, \"correct\": \"correct answer\"}}\n",
      "\n",
      "\u001b[0m\n",
      "\n",
      "\u001b[1m> Finished chain.\u001b[0m\n",
      "\n",
      "\n",
      "\u001b[1m> Entering new LLMChain chain...\u001b[0m\n",
      "Prompt after formatting:\n",
      "\u001b[32;1m\u001b[1;3m\n",
      "You are an expert english grammarian and writer. Given a Multiple Choice Quiz for History students.You need to evaluate the complexity of the question and give a complete analysis of the quiz. Only use at max 50 words for complexity analysis. \n",
      "if the quiz is not at per with the cognitive and analytical abilities of the students,update the quiz questions which needs to be changed and change the tone such that it perfectly fits the student abilities\n",
      "Quiz_MCQs:\n",
      "{'1': {'mcq': 'When did sedentariness (settled life) begin in South Asia?', 'options': {'a': 'Around 30,000 years ago', 'b': 'Around 7000 BCE', 'c': 'Between 73,000 and 55,000 years ago', 'd': 'Around 2500 BCE'}, 'correct': 'b'}, '2': {'mcq': 'Which empire, established by Chandragupta Maurya, was the first great empire in ancient India?', 'options': {'a': 'The Gupta Empire', 'b': 'The Shunga Empire', 'c': 'The Maurya Empire', 'd': 'The Nanda Empire'}, 'correct': 'c'}, '3': {'mcq': 'What was the Delhi Sultanate?', 'options': {'a': 'A Hindu empire that ruled southern India', 'b': 'A dynasty established by the Mughals', 'c': 'A sultanate ruled by various Turkic and Afghan dynasties in northern India', 'd': 'A wealthy independent sultanate in Bengal'}, 'correct': 'c'}, '4': {'mcq': 'What event led to the direct rule of India by the British Crown (the British Raj)?', 'options': {'a': 'World War I', 'b': 'The invasions of Timur', 'c': 'The Indian Rebellion of 1857', 'd': 'The rise of the Marathas'}, 'correct': 'c'}, '5': {'mcq': 'Which two new ascetic movements arose in India around 600 BCE?', 'options': {'a': 'Hinduism and Islam', 'b': 'Jainism and Buddhism', 'c': 'Sikhism and Christianity', 'd': 'Zoroastrianism and Judaism'}, 'correct': 'b'}}\n",
      "\n",
      "Check from an expert English Writer of the above quiz:\n",
      "\u001b[0m\n",
      "\n",
      "\u001b[1m> Finished chain.\u001b[0m\n",
      "\n",
      "\u001b[1m> Finished chain.\u001b[0m\n",
      "{'text': \"Anatomically modern humans first arrived on the Indian subcontinent between 73,000 and 55,000 years ago.[1] The earliest known human remains in South Asia date to 30,000 years ago. Sedentariness began in South Asia around 7000 BCE; by 4500 BCE, settled life had spread,[2] and gradually evolved into the Indus Valley Civilisation, one of three early cradles of civilisation in the Old World,[3][4] which flourished between 2500 BCE and 1900 BCE in present-day Pakistan and north-western India. Early in the second millennium BCE, persistent drought caused the population of the Indus Valley to scatter from large urban centres to villages. Indo-Aryan tribes moved into the Punjab from Central Asia in several waves of migration. The Vedic Period of the Vedic people in northern India (1500–500 BCE) was marked by the composition of their extensive collections of hymns (Vedas). The social structure was loosely stratified via the varna system, incorporated into the highly evolved present-day Jāti system. The pastoral and nomadic Indo-Aryans spread from the Punjab into the Gangetic plain. Around 600 BCE, a new, interregional culture arose; then, small chieftaincies (janapadas) were consolidated into larger states (mahajanapadas). Second urbanization took place, which came with the rise of new ascetic movements and religious concepts,[5] including the rise of Jainism and Buddhism. The latter was synthesized with the preexisting religious cultures of the subcontinent, giving rise to Hinduism.\\n\\n\\nIndian cultural influence (Greater India)\\n\\nTimeline of Indian history\\nChandragupta Maurya overthrew the Nanda Empire and established the first great empire in ancient India, the Maurya Empire. India's Mauryan king Ashoka is widely recognised for the violent kalinga war and his historical acceptance of Buddhism and his attempts to spread nonviolence and peace across his empire. The Maurya Empire would collapse in 185 BCE, on the assassination of the then-emperor Brihadratha by his general Pushyamitra Shunga. Shunga would form the Shunga Empire in the north and north-east of the subcontinent, while the Greco-Bactrian Kingdom would claim the north-west and found the Indo-Greek Kingdom. Various parts of India were ruled by numerous dynasties, including the Gupta Empire, in the 4th to 6th centuries CE. This period, witnessing a Hindu religious and intellectual resurgence is known as the Classical or Golden Age of India. Aspects of Indian civilisation, administration, culture, and religion spread to much of Asia, which led to the establishment of Indianised kingdoms in the region, forming Greater India.[6][5] The most significant event between the 7th and 11th centuries was the Tripartite struggle centred on Kannauj. Southern India saw the rise of multiple imperial powers from the middle of the fifth century. The Chola dynasty conquered southern India in the 11th century. In the early medieval period, Indian mathematics, including Hindu numerals, influenced the development of mathematics and astronomy in the Arab world, including the creation of the Hindu-Arabic numeral system.[7]\\n\\nIslamic conquests made limited inroads into modern Afghanistan and Sindh as early as the 8th century,[8] followed by the invasions of Mahmud Ghazni.[9] The Delhi Sultanate, established in 1206 by Central Asian Turks, ruled much of northern India in the 14th century. It was governed by various Turkic and Afghan dynasties, including the Indo-Turkic Tughlaqs.[10][11] The empire declined in the late 14th century following the invasions of Timur[12] and saw the advent of the Malwa, Gujarat, and Bahmani sultanates, the last of which split in 1518 into the five Deccan sultanates. The wealthy Bengal Sultanate also emerged as a major power, lasting over three centuries.[13] During this period, multiple strong Hindu kingdoms, notably the Vijayanagara Empire and Rajput states under the Kingdom of Mewar emerged and played significant roles in shaping the cultural and political landscape of India.[14][15]\\n\\nThe early modern period began in the 16th century, when the Mughal Empire conquered most of the Indian subcontinent,[16] signaling the proto-industrialisation, becoming the biggest global economy and manufacturing power.[17][18][19] The Mughals suffered a gradual decline in the early 18th century, largely due to the rising power of the Marathas, who took control of extensive regions of the Indian subcontinent, and numerous Afghan invasions.[20][21][22] The East India Company, acting as a sovereign force on behalf of the British government, gradually acquired control of huge areas of India between the middle of the 18th and the middle of the 19th centuries. Policies of company rule in India led to the Indian Rebellion of 1857. India was afterwards ruled directly by the British Crown, in the British Raj. After World War I, a nationwide struggle for independence was launched by the Indian National Congress, led by Mahatma Gandhi. Later, the All-India Muslim League would advocate for a separate Muslim-majority nation state. The British Indian Empire was partitioned in August 1947 into the Dominion of India and Dominion of Pakistan, each gaining its independence.\", 'number': 5, 'subject': 'History', 'level': 'simple', 'response_json': '{\"1\": {\"mcq\": \"multiple choice question\", \"options\": {\"a\": \"choice here\", \"b\": \"choice here\", \"c\": \"choice here\", \"d\": \"choice here\"}, \"correct\": \"correct answer\"}, \"2\": {\"mcq\": \"multiple choice question\", \"options\": {\"a\": \"choice here\", \"b\": \"choice here\", \"c\": \"choice here\", \"d\": \"choice here\"}, \"correct\": \"correct answer\"}, \"3\": {\"mcq\": \"multiple choice question\", \"options\": {\"a\": \"choice here\", \"b\": \"choice here\", \"c\": \"choice here\", \"d\": \"choice here\"}, \"correct\": \"correct answer\"}}', 'quiz': {'1': {'mcq': 'When did sedentariness (settled life) begin in South Asia?', 'options': {'a': 'Around 30,000 years ago', 'b': 'Around 7000 BCE', 'c': 'Between 73,000 and 55,000 years ago', 'd': 'Around 2500 BCE'}, 'correct': 'b'}, '2': {'mcq': 'Which empire, established by Chandragupta Maurya, was the first great empire in ancient India?', 'options': {'a': 'The Gupta Empire', 'b': 'The Shunga Empire', 'c': 'The Maurya Empire', 'd': 'The Nanda Empire'}, 'correct': 'c'}, '3': {'mcq': 'What was the Delhi Sultanate?', 'options': {'a': 'A Hindu empire that ruled southern India', 'b': 'A dynasty established by the Mughals', 'c': 'A sultanate ruled by various Turkic and Afghan dynasties in northern India', 'd': 'A wealthy independent sultanate in Bengal'}, 'correct': 'c'}, '4': {'mcq': 'What event led to the direct rule of India by the British Crown (the British Raj)?', 'options': {'a': 'World War I', 'b': 'The invasions of Timur', 'c': 'The Indian Rebellion of 1857', 'd': 'The rise of the Marathas'}, 'correct': 'c'}, '5': {'mcq': 'Which two new ascetic movements arose in India around 600 BCE?', 'options': {'a': 'Hinduism and Islam', 'b': 'Jainism and Buddhism', 'c': 'Sikhism and Christianity', 'd': 'Zoroastrianism and Judaism'}, 'correct': 'b'}}, 'review': 'This quiz is well-constructed, using clear, direct language appropriate for high school students. The questions target key historical milestones, requiring both factual recall and basic chronological reasoning, which is suitable for an introductory history course.\\n\\nNo updates are required. The tone and complexity are perfectly matched to the intended student level.'}\n"
     ]
    }
   ],
   "source": [
    "number=5 \n",
    "subject=\"History\"\n",
    "level=\"simple\"\n",
    "response=generate_evaluate_chain(\n",
    "    {\n",
    "        \"text\": topic,\n",
    "        \"number\": number,\n",
    "        \"subject\":subject,\n",
    "        \"level\": level,\n",
    "        \"response_json\": output_response_json,\n",
    "    }\n",
    "    )"
   ]
  },
  {
   "cell_type": "code",
   "execution_count": 11,
   "id": "09786ffb",
   "metadata": {},
   "outputs": [
    {
     "name": "stdout",
     "output_type": "stream",
     "text": [
      "QUIZ DICT: {'1': {'mcq': 'When did sedentariness (settled life) begin in South Asia?', 'options': {'a': 'Around 30,000 years ago', 'b': 'Around 7000 BCE', 'c': 'Between 73,000 and 55,000 years ago', 'd': 'Around 2500 BCE'}, 'correct': 'b'}, '2': {'mcq': 'Which empire, established by Chandragupta Maurya, was the first great empire in ancient India?', 'options': {'a': 'The Gupta Empire', 'b': 'The Shunga Empire', 'c': 'The Maurya Empire', 'd': 'The Nanda Empire'}, 'correct': 'c'}, '3': {'mcq': 'What was the Delhi Sultanate?', 'options': {'a': 'A Hindu empire that ruled southern India', 'b': 'A dynasty established by the Mughals', 'c': 'A sultanate ruled by various Turkic and Afghan dynasties in northern India', 'd': 'A wealthy independent sultanate in Bengal'}, 'correct': 'c'}, '4': {'mcq': 'What event led to the direct rule of India by the British Crown (the British Raj)?', 'options': {'a': 'World War I', 'b': 'The invasions of Timur', 'c': 'The Indian Rebellion of 1857', 'd': 'The rise of the Marathas'}, 'correct': 'c'}, '5': {'mcq': 'Which two new ascetic movements arose in India around 600 BCE?', 'options': {'a': 'Hinduism and Islam', 'b': 'Jainism and Buddhism', 'c': 'Sikhism and Christianity', 'd': 'Zoroastrianism and Judaism'}, 'correct': 'b'}}\n",
      "REVIEW: This quiz is well-constructed, using clear, direct language appropriate for high school students. The questions target key historical milestones, requiring both factual recall and basic chronological reasoning, which is suitable for an introductory history course.\n",
      "\n",
      "No updates are required. The tone and complexity are perfectly matched to the intended student level.\n"
     ]
    }
   ],
   "source": [
    "print(\"QUIZ DICT:\", response[\"quiz\"])\n",
    "print(\"REVIEW:\", response[\"review\"])"
   ]
  },
  {
   "cell_type": "code",
   "execution_count": 15,
   "id": "6fd62e04",
   "metadata": {},
   "outputs": [
    {
     "data": {
      "text/html": [
       "<div>\n",
       "<style scoped>\n",
       "    .dataframe tbody tr th:only-of-type {\n",
       "        vertical-align: middle;\n",
       "    }\n",
       "\n",
       "    .dataframe tbody tr th {\n",
       "        vertical-align: top;\n",
       "    }\n",
       "\n",
       "    .dataframe thead th {\n",
       "        text-align: right;\n",
       "    }\n",
       "</style>\n",
       "<table border=\"1\" class=\"dataframe\">\n",
       "  <thead>\n",
       "    <tr style=\"text-align: right;\">\n",
       "      <th></th>\n",
       "      <th>MCQ</th>\n",
       "      <th>Choices</th>\n",
       "      <th>Correct</th>\n",
       "    </tr>\n",
       "  </thead>\n",
       "  <tbody>\n",
       "    <tr>\n",
       "      <th>0</th>\n",
       "      <td>When did sedentariness (settled life) begin in...</td>\n",
       "      <td>a: Around 30,000 years ago | b: Around 7000 BC...</td>\n",
       "      <td>b</td>\n",
       "    </tr>\n",
       "    <tr>\n",
       "      <th>1</th>\n",
       "      <td>Which empire, established by Chandragupta Maur...</td>\n",
       "      <td>a: The Gupta Empire | b: The Shunga Empire | c...</td>\n",
       "      <td>c</td>\n",
       "    </tr>\n",
       "    <tr>\n",
       "      <th>2</th>\n",
       "      <td>What was the Delhi Sultanate?</td>\n",
       "      <td>a: A Hindu empire that ruled southern India | ...</td>\n",
       "      <td>c</td>\n",
       "    </tr>\n",
       "    <tr>\n",
       "      <th>3</th>\n",
       "      <td>What event led to the direct rule of India by ...</td>\n",
       "      <td>a: World War I | b: The invasions of Timur | c...</td>\n",
       "      <td>c</td>\n",
       "    </tr>\n",
       "    <tr>\n",
       "      <th>4</th>\n",
       "      <td>Which two new ascetic movements arose in India...</td>\n",
       "      <td>a: Hinduism and Islam | b: Jainism and Buddhis...</td>\n",
       "      <td>b</td>\n",
       "    </tr>\n",
       "  </tbody>\n",
       "</table>\n",
       "</div>"
      ],
      "text/plain": [
       "                                                 MCQ  \\\n",
       "0  When did sedentariness (settled life) begin in...   \n",
       "1  Which empire, established by Chandragupta Maur...   \n",
       "2                      What was the Delhi Sultanate?   \n",
       "3  What event led to the direct rule of India by ...   \n",
       "4  Which two new ascetic movements arose in India...   \n",
       "\n",
       "                                             Choices Correct  \n",
       "0  a: Around 30,000 years ago | b: Around 7000 BC...       b  \n",
       "1  a: The Gupta Empire | b: The Shunga Empire | c...       c  \n",
       "2  a: A Hindu empire that ruled southern India | ...       c  \n",
       "3  a: World War I | b: The invasions of Timur | c...       c  \n",
       "4  a: Hinduism and Islam | b: Jainism and Buddhis...       b  "
      ]
     },
     "execution_count": 15,
     "metadata": {},
     "output_type": "execute_result"
    }
   ],
   "source": [
    "quiz_response = response[\"quiz\"]\n",
    "\n",
    "quiz_table_data = []\n",
    "for key, value in quiz_response.items():\n",
    "    mcq = value[\"mcq\"]\n",
    "    options = \" | \".join(\n",
    "        [\n",
    "            f\"{option}: {option_value}\"\n",
    "            for option, option_value in value[\"options\"].items()\n",
    "            ]\n",
    "        )\n",
    "    correct = value[\"correct\"]\n",
    "    quiz_table_data.append({\"MCQ\": mcq, \"Choices\": options, \"Correct\": correct})\n",
    "\n",
    "quiz_table_data_df = pd.DataFrame(quiz_table_data)\n",
    "quiz_table_data_df"
   ]
  },
  {
   "cell_type": "code",
   "execution_count": 16,
   "id": "a6d1b798",
   "metadata": {},
   "outputs": [],
   "source": [
    "quiz_table_data_df.to_csv(\"quiz_history.csv\", index=False)"
   ]
  },
  {
   "cell_type": "code",
   "execution_count": null,
   "id": "3af80f06",
   "metadata": {},
   "outputs": [],
   "source": []
  }
 ],
 "metadata": {
  "kernelspec": {
   "display_name": "env",
   "language": "python",
   "name": "python3"
  },
  "language_info": {
   "codemirror_mode": {
    "name": "ipython",
    "version": 3
   },
   "file_extension": ".py",
   "mimetype": "text/x-python",
   "name": "python",
   "nbconvert_exporter": "python",
   "pygments_lexer": "ipython3",
   "version": "3.12.3"
  }
 },
 "nbformat": 4,
 "nbformat_minor": 5
}
